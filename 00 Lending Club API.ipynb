{
 "cells": [
  {
   "cell_type": "markdown",
   "metadata": {},
   "source": [
    "# Consumer Lending Analysis: Lending Club\n",
    "\n",
    "## Lending Club Python API"
   ]
  },
  {
   "cell_type": "code",
   "execution_count": 1,
   "metadata": {},
   "outputs": [],
   "source": [
    "from lendingclub import LendingClub\n",
    "from lendingclub.filters import Filter\n",
    "from lendingclub.filters import FilterByLoanID\n",
    "from lendingclub.filters import SavedFilter\n",
    "from pprint import pprint"
   ]
  },
  {
   "cell_type": "code",
   "execution_count": 2,
   "metadata": {},
   "outputs": [
    {
     "name": "stdout",
     "output_type": "stream",
     "text": [
      "Email:jiayingg@usc.edu\n",
      "········\n"
     ]
    },
    {
     "data": {
      "text/plain": [
       "True"
      ]
     },
     "execution_count": 2,
     "metadata": {},
     "output_type": "execute_result"
    }
   ],
   "source": [
    "# Authenticate with your lending club credentials\n",
    "\n",
    "lc = LendingClub()\n",
    "lc.authenticate()"
   ]
  },
  {
   "cell_type": "code",
   "execution_count": 3,
   "metadata": {},
   "outputs": [
    {
     "name": "stdout",
     "output_type": "stream",
     "text": [
      "0.0\n",
      "0\n"
     ]
    }
   ],
   "source": [
    "# See the cash you have available for investing\n",
    "# Yes I don't have money to invest\n",
    "\n",
    "print(lc.get_cash_balance())\n",
    "print(lc.get_investable_balance())"
   ]
  },
  {
   "cell_type": "code",
   "execution_count": 4,
   "metadata": {},
   "outputs": [
    {
     "name": "stdout",
     "output_type": "stream",
     "text": [
      "{'exclude_existing': True,\n",
      " 'funding_progress': 0,\n",
      " 'grades': {'A': False,\n",
      "            'All': True,\n",
      "            'B': False,\n",
      "            'C': False,\n",
      "            'D': False,\n",
      "            'E': False,\n",
      "            'F': False,\n",
      "            'G': False},\n",
      " 'term': {'Year3': True, 'Year5': True}}\n"
     ]
    }
   ],
   "source": [
    "# The default search filter that let you refine your search based on a dictionary of search facets. \n",
    "\n",
    "filters = Filter()\n",
    "pprint(filters)"
   ]
  },
  {
   "cell_type": "code",
   "execution_count": 5,
   "metadata": {},
   "outputs": [
    {
     "name": "stdout",
     "output_type": "stream",
     "text": [
      "{'exclude_existing': True,\n",
      " 'funding_progress': 90,\n",
      " 'grades': {'A': False,\n",
      "            'All': False,\n",
      "            'B': True,\n",
      "            'C': True,\n",
      "            'D': True,\n",
      "            'E': False,\n",
      "            'F': False,\n",
      "            'G': False},\n",
      " 'term': {'Year3': True, 'Year5': False}}\n"
     ]
    }
   ],
   "source": [
    "# Set the search filters (only B, C, and D grade notes, 5 years term and funding progress > 90%)\n",
    "\n",
    "filters['grades']['B'] = True\n",
    "filters['grades']['C'] = True\n",
    "filters['grades']['D'] = True\n",
    "filters['term']['Year5'] = False\n",
    "filters['funding_progress'] = 90\n",
    "\n",
    "# OR\n",
    "# filters = Filter({'grades': ... , 'term': ... , 'funding_progress': ...})\n",
    "\n",
    "pprint(filters)"
   ]
  },
  {
   "cell_type": "code",
   "execution_count": 6,
   "metadata": {
    "scrolled": true
   },
   "outputs": [
    {
     "data": {
      "text/plain": [
       "100"
      ]
     },
     "execution_count": 6,
     "metadata": {},
     "output_type": "execute_result"
    }
   ],
   "source": [
    "results = lc.search(filters)\n",
    "len(results['loans'])"
   ]
  },
  {
   "cell_type": "code",
   "execution_count": 7,
   "metadata": {},
   "outputs": [
    {
     "name": "stdout",
     "output_type": "stream",
     "text": [
      "{u'loans': [{u'alreadyInvestedIn': False,\n",
      "             u'alreadySelected': False,\n",
      "             u'amountToInvest': 0,\n",
      "             u'fico': u'715-719',\n",
      "             u'hasCosigner': False,\n",
      "             u'isInCurrentOrder': False,\n",
      "             u'isWholeLoan': 0,\n",
      "             u'loanAmountRequested': 7200,\n",
      "             u'loanAmt': 7200,\n",
      "             u'loanAmtRemaining': 50,\n",
      "             u'loanGUID': u'120117441',\n",
      "             u'loanGrade': u'D2',\n",
      "             u'loanLength': 36,\n",
      "             u'loanRate': u'18.06',\n",
      "             u'loanRateDiff': u'.00',\n",
      "             u'loanTimeRemaining': 2587939901L,\n",
      "             u'loanType': u'Personal',\n",
      "             u'loanUnfundedAmount': 25,\n",
      "             'loan_id': 120117441,\n",
      "             u'loan_status': u'INFUNDING',\n",
      "             u'noFee': 0,\n",
      "             u'primeFractions': 0,\n",
      "             u'primeMarkedInvestment': 0,\n",
      "             u'primeTotalInvestment': 0,\n",
      "             u'primeUnfundedAmount': 0,\n",
      "             u'purpose': u'credit_card',\n",
      "             u'searchrank': 1,\n",
      "             u'title': u'Credit card refinancing',\n",
      "             u'wholeLoanTimeRemaining': -4060099},\n",
      "            {u'alreadyInvestedIn': False,\n",
      "             u'alreadySelected': False,\n",
      "             u'amountToInvest': 0,\n",
      "             u'fico': u'680-684',\n",
      "             u'hasCosigner': False,\n",
      "             u'isInCurrentOrder': False,\n",
      "             u'isWholeLoan': 0,\n",
      "             u'loanAmountRequested': 10075,\n",
      "             u'loanAmt': 10075,\n",
      "             u'loanAmtRemaining': 800,\n",
      "             u'loanGUID': u'119428432',\n",
      "             u'loanGrade': u'E2',\n",
      "             u'loanLength': 36,\n",
      "             u'loanRate': u'23.88',\n",
      "             u'loanRateDiff': u'.00',\n",
      "             u'loanTimeRemaining': 2329385901L,\n",
      "             u'loanType': u'Personal',\n",
      "             u'loanUnfundedAmount': 800,\n",
      "             'loan_id': 119428432,\n",
      "             u'loan_status': u'INFUNDING',\n",
      "             u'noFee': 0,\n",
      "             u'primeFractions': 0,\n",
      "             u'primeMarkedInvestment': 0,\n",
      "             u'primeTotalInvestment': 0,\n",
      "             u'primeUnfundedAmount': 0,\n",
      "             u'purpose': u'debt_consolidation',\n",
      "             u'searchrank': -2.7884853e-05,\n",
      "             u'title': u'Debt consolidation',\n",
      "             u'wholeLoanTimeRemaining': -18460099}],\n",
      " u'totalRecords': 2}\n"
     ]
    }
   ],
   "source": [
    "# Filter By Loan ID\n",
    "\n",
    "filter = FilterByLoanID([119428432, 120117441])\n",
    "results = lc.search(filter)\n",
    "pprint(results)"
   ]
  }
 ],
 "metadata": {
  "kernelspec": {
   "display_name": "Python 2",
   "language": "python",
   "name": "python2"
  },
  "language_info": {
   "codemirror_mode": {
    "name": "ipython",
    "version": 2
   },
   "file_extension": ".py",
   "mimetype": "text/x-python",
   "name": "python",
   "nbconvert_exporter": "python",
   "pygments_lexer": "ipython2",
   "version": "2.7.13"
  }
 },
 "nbformat": 4,
 "nbformat_minor": 2
}
